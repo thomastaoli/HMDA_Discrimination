{
 "cells": [
  {
   "cell_type": "code",
   "execution_count": 1,
   "metadata": {},
   "outputs": [],
   "source": [
    "import pandas as pd\n",
    "import numpy as np\n",
    "import csv\n",
    "import statsmodels.api as sm\n",
    "import os"
   ]
  },
  {
   "cell_type": "code",
   "execution_count": 2,
   "metadata": {},
   "outputs": [
    {
     "name": "stderr",
     "output_type": "stream",
     "text": [
      "/var/folders/1r/2wpzk2cd1ln3_nc94hvh0cqm0000gn/T/ipykernel_37478/154030911.py:20: DtypeWarning: Columns (22,23,24,26,27,28,29,30,31,32,33,38,43,44) have mixed types. Specify dtype option on import or set low_memory=False.\n",
      "  dataframes_list.append(pd.read_csv(file_path))\n",
      "/var/folders/1r/2wpzk2cd1ln3_nc94hvh0cqm0000gn/T/ipykernel_37478/154030911.py:20: DtypeWarning: Columns (22,23,24,26,27,28,29,30,31,32,33,38,43,44) have mixed types. Specify dtype option on import or set low_memory=False.\n",
      "  dataframes_list.append(pd.read_csv(file_path))\n",
      "/var/folders/1r/2wpzk2cd1ln3_nc94hvh0cqm0000gn/T/ipykernel_37478/154030911.py:20: DtypeWarning: Columns (22,23,24,26,27,28,29,30,31,32,33,38,43,44) have mixed types. Specify dtype option on import or set low_memory=False.\n",
      "  dataframes_list.append(pd.read_csv(file_path))\n",
      "/var/folders/1r/2wpzk2cd1ln3_nc94hvh0cqm0000gn/T/ipykernel_37478/154030911.py:20: DtypeWarning: Columns (22,23,24,26,27,28,29,30,31,32,33,38,43,44) have mixed types. Specify dtype option on import or set low_memory=False.\n",
      "  dataframes_list.append(pd.read_csv(file_path))\n",
      "/var/folders/1r/2wpzk2cd1ln3_nc94hvh0cqm0000gn/T/ipykernel_37478/154030911.py:20: DtypeWarning: Columns (22,23,24,26,27,28,29,30,31,32,33,38,43,44) have mixed types. Specify dtype option on import or set low_memory=False.\n",
      "  dataframes_list.append(pd.read_csv(file_path))\n",
      "/var/folders/1r/2wpzk2cd1ln3_nc94hvh0cqm0000gn/T/ipykernel_37478/154030911.py:20: DtypeWarning: Columns (22,23,24,26,27,28,29,30,31,32,33,38,43,44) have mixed types. Specify dtype option on import or set low_memory=False.\n",
      "  dataframes_list.append(pd.read_csv(file_path))\n",
      "/var/folders/1r/2wpzk2cd1ln3_nc94hvh0cqm0000gn/T/ipykernel_37478/154030911.py:20: DtypeWarning: Columns (22,23,24,26,27,28,29,30,31,32,33,38,43,44) have mixed types. Specify dtype option on import or set low_memory=False.\n",
      "  dataframes_list.append(pd.read_csv(file_path))\n",
      "/var/folders/1r/2wpzk2cd1ln3_nc94hvh0cqm0000gn/T/ipykernel_37478/154030911.py:20: DtypeWarning: Columns (22,23,24,26,27,28,29,30,31,32,33,38) have mixed types. Specify dtype option on import or set low_memory=False.\n",
      "  dataframes_list.append(pd.read_csv(file_path))\n",
      "/var/folders/1r/2wpzk2cd1ln3_nc94hvh0cqm0000gn/T/ipykernel_37478/154030911.py:20: DtypeWarning: Columns (22,23,24,26,27,28,29,30,31,32,33,38,43,44) have mixed types. Specify dtype option on import or set low_memory=False.\n",
      "  dataframes_list.append(pd.read_csv(file_path))\n",
      "/var/folders/1r/2wpzk2cd1ln3_nc94hvh0cqm0000gn/T/ipykernel_37478/154030911.py:20: DtypeWarning: Columns (22,23,24,26,27,28,29,30,31,32,33,38,43,44) have mixed types. Specify dtype option on import or set low_memory=False.\n",
      "  dataframes_list.append(pd.read_csv(file_path))\n",
      "/var/folders/1r/2wpzk2cd1ln3_nc94hvh0cqm0000gn/T/ipykernel_37478/154030911.py:20: DtypeWarning: Columns (22,23,24,26,27,28,29,30,31,32,33,38,43,44) have mixed types. Specify dtype option on import or set low_memory=False.\n",
      "  dataframes_list.append(pd.read_csv(file_path))\n",
      "/var/folders/1r/2wpzk2cd1ln3_nc94hvh0cqm0000gn/T/ipykernel_37478/154030911.py:20: DtypeWarning: Columns (22,23,24,26,27,28,29,30,31,32,33,38,43,44) have mixed types. Specify dtype option on import or set low_memory=False.\n",
      "  dataframes_list.append(pd.read_csv(file_path))\n",
      "/var/folders/1r/2wpzk2cd1ln3_nc94hvh0cqm0000gn/T/ipykernel_37478/154030911.py:20: DtypeWarning: Columns (22,23,24,26,27,28,29,30,31,32,33,38,43,44) have mixed types. Specify dtype option on import or set low_memory=False.\n",
      "  dataframes_list.append(pd.read_csv(file_path))\n",
      "/var/folders/1r/2wpzk2cd1ln3_nc94hvh0cqm0000gn/T/ipykernel_37478/154030911.py:20: DtypeWarning: Columns (22,23,24,26,27,28,29,30,31,32,33,38,44) have mixed types. Specify dtype option on import or set low_memory=False.\n",
      "  dataframes_list.append(pd.read_csv(file_path))\n",
      "/var/folders/1r/2wpzk2cd1ln3_nc94hvh0cqm0000gn/T/ipykernel_37478/154030911.py:20: DtypeWarning: Columns (22,23,24,26,27,28,29,30,31,32,33,38,44) have mixed types. Specify dtype option on import or set low_memory=False.\n",
      "  dataframes_list.append(pd.read_csv(file_path))\n",
      "/var/folders/1r/2wpzk2cd1ln3_nc94hvh0cqm0000gn/T/ipykernel_37478/154030911.py:20: DtypeWarning: Columns (22,23,24,26,27,28,29,30,31,32,33,38,43,44) have mixed types. Specify dtype option on import or set low_memory=False.\n",
      "  dataframes_list.append(pd.read_csv(file_path))\n",
      "/var/folders/1r/2wpzk2cd1ln3_nc94hvh0cqm0000gn/T/ipykernel_37478/154030911.py:20: DtypeWarning: Columns (22,23,24,26,27,28,29,30,31,32,33,38,43,44) have mixed types. Specify dtype option on import or set low_memory=False.\n",
      "  dataframes_list.append(pd.read_csv(file_path))\n",
      "/var/folders/1r/2wpzk2cd1ln3_nc94hvh0cqm0000gn/T/ipykernel_37478/154030911.py:20: DtypeWarning: Columns (22,23,24,26,27,28,29,30,31,32,33,38,44) have mixed types. Specify dtype option on import or set low_memory=False.\n",
      "  dataframes_list.append(pd.read_csv(file_path))\n",
      "/var/folders/1r/2wpzk2cd1ln3_nc94hvh0cqm0000gn/T/ipykernel_37478/154030911.py:20: DtypeWarning: Columns (22,23,24,26,27,28,29,30,31,32,33,38,43,44) have mixed types. Specify dtype option on import or set low_memory=False.\n",
      "  dataframes_list.append(pd.read_csv(file_path))\n",
      "/var/folders/1r/2wpzk2cd1ln3_nc94hvh0cqm0000gn/T/ipykernel_37478/154030911.py:20: DtypeWarning: Columns (22,23,24,26,27,28,29,30,31,32,33,38,43,44) have mixed types. Specify dtype option on import or set low_memory=False.\n",
      "  dataframes_list.append(pd.read_csv(file_path))\n",
      "/var/folders/1r/2wpzk2cd1ln3_nc94hvh0cqm0000gn/T/ipykernel_37478/154030911.py:20: DtypeWarning: Columns (22,23,24,26,27,28,29,30,31,32,33,38,43,44) have mixed types. Specify dtype option on import or set low_memory=False.\n",
      "  dataframes_list.append(pd.read_csv(file_path))\n",
      "/var/folders/1r/2wpzk2cd1ln3_nc94hvh0cqm0000gn/T/ipykernel_37478/154030911.py:20: DtypeWarning: Columns (22,23,24,26,27,28,29,30,31,32,33,38,43,44) have mixed types. Specify dtype option on import or set low_memory=False.\n",
      "  dataframes_list.append(pd.read_csv(file_path))\n",
      "/var/folders/1r/2wpzk2cd1ln3_nc94hvh0cqm0000gn/T/ipykernel_37478/154030911.py:20: DtypeWarning: Columns (22,23,24,26,27,28,29,30,31,32,33,38,43,44) have mixed types. Specify dtype option on import or set low_memory=False.\n",
      "  dataframes_list.append(pd.read_csv(file_path))\n",
      "/var/folders/1r/2wpzk2cd1ln3_nc94hvh0cqm0000gn/T/ipykernel_37478/154030911.py:20: DtypeWarning: Columns (24,28,29,31,32,33,44) have mixed types. Specify dtype option on import or set low_memory=False.\n",
      "  dataframes_list.append(pd.read_csv(file_path))\n",
      "/var/folders/1r/2wpzk2cd1ln3_nc94hvh0cqm0000gn/T/ipykernel_37478/154030911.py:20: DtypeWarning: Columns (22,23,24,26,27,28,29,30,31,32,33,38,43,44) have mixed types. Specify dtype option on import or set low_memory=False.\n",
      "  dataframes_list.append(pd.read_csv(file_path))\n",
      "/var/folders/1r/2wpzk2cd1ln3_nc94hvh0cqm0000gn/T/ipykernel_37478/154030911.py:20: DtypeWarning: Columns (22,23,24,26,27,28,29,30,31,32,33,38,43,44) have mixed types. Specify dtype option on import or set low_memory=False.\n",
      "  dataframes_list.append(pd.read_csv(file_path))\n",
      "/var/folders/1r/2wpzk2cd1ln3_nc94hvh0cqm0000gn/T/ipykernel_37478/154030911.py:20: DtypeWarning: Columns (22,23,24,26,27,28,29,30,31,32,33,38,43,44) have mixed types. Specify dtype option on import or set low_memory=False.\n",
      "  dataframes_list.append(pd.read_csv(file_path))\n",
      "/var/folders/1r/2wpzk2cd1ln3_nc94hvh0cqm0000gn/T/ipykernel_37478/154030911.py:20: DtypeWarning: Columns (22,23,24,26,27,28,29,30,31,32,33,38,43,44,46,77,78,79,80) have mixed types. Specify dtype option on import or set low_memory=False.\n",
      "  dataframes_list.append(pd.read_csv(file_path))\n",
      "/var/folders/1r/2wpzk2cd1ln3_nc94hvh0cqm0000gn/T/ipykernel_37478/154030911.py:20: DtypeWarning: Columns (22,23,24,26,27,28,29,30,31,32,33,38,43,44) have mixed types. Specify dtype option on import or set low_memory=False.\n",
      "  dataframes_list.append(pd.read_csv(file_path))\n",
      "/var/folders/1r/2wpzk2cd1ln3_nc94hvh0cqm0000gn/T/ipykernel_37478/154030911.py:20: DtypeWarning: Columns (22,23,24,26,27,28,29,30,31,32,33,38,43,44) have mixed types. Specify dtype option on import or set low_memory=False.\n",
      "  dataframes_list.append(pd.read_csv(file_path))\n",
      "/var/folders/1r/2wpzk2cd1ln3_nc94hvh0cqm0000gn/T/ipykernel_37478/154030911.py:20: DtypeWarning: Columns (22,23,24,26,27,28,29,30,31,32,33,38,43,44) have mixed types. Specify dtype option on import or set low_memory=False.\n",
      "  dataframes_list.append(pd.read_csv(file_path))\n",
      "/var/folders/1r/2wpzk2cd1ln3_nc94hvh0cqm0000gn/T/ipykernel_37478/154030911.py:20: DtypeWarning: Columns (22,23,24,26,27,28,29,30,31,32,33,38,43,44) have mixed types. Specify dtype option on import or set low_memory=False.\n",
      "  dataframes_list.append(pd.read_csv(file_path))\n",
      "/var/folders/1r/2wpzk2cd1ln3_nc94hvh0cqm0000gn/T/ipykernel_37478/154030911.py:20: DtypeWarning: Columns (22,23,24,26,27,28,29,30,31,32,33,38,43,44) have mixed types. Specify dtype option on import or set low_memory=False.\n",
      "  dataframes_list.append(pd.read_csv(file_path))\n",
      "/var/folders/1r/2wpzk2cd1ln3_nc94hvh0cqm0000gn/T/ipykernel_37478/154030911.py:20: DtypeWarning: Columns (22,23,24,26,27,28,29,30,31,32,33,38,43,44) have mixed types. Specify dtype option on import or set low_memory=False.\n",
      "  dataframes_list.append(pd.read_csv(file_path))\n",
      "/var/folders/1r/2wpzk2cd1ln3_nc94hvh0cqm0000gn/T/ipykernel_37478/154030911.py:20: DtypeWarning: Columns (22,23,24,26,27,28,29,30,31,32,33,38,43,44) have mixed types. Specify dtype option on import or set low_memory=False.\n",
      "  dataframes_list.append(pd.read_csv(file_path))\n",
      "/var/folders/1r/2wpzk2cd1ln3_nc94hvh0cqm0000gn/T/ipykernel_37478/154030911.py:20: DtypeWarning: Columns (22,23,24,26,27,28,29,30,31,32,33,38,43,44,46,77,78,79,80) have mixed types. Specify dtype option on import or set low_memory=False.\n",
      "  dataframes_list.append(pd.read_csv(file_path))\n",
      "/var/folders/1r/2wpzk2cd1ln3_nc94hvh0cqm0000gn/T/ipykernel_37478/154030911.py:20: DtypeWarning: Columns (22,23,24,26,27,28,29,30,31,32,33,38,43,44) have mixed types. Specify dtype option on import or set low_memory=False.\n",
      "  dataframes_list.append(pd.read_csv(file_path))\n",
      "/var/folders/1r/2wpzk2cd1ln3_nc94hvh0cqm0000gn/T/ipykernel_37478/154030911.py:20: DtypeWarning: Columns (22,23,24,26,27,28,29,30,31,32,33,38,43,44) have mixed types. Specify dtype option on import or set low_memory=False.\n",
      "  dataframes_list.append(pd.read_csv(file_path))\n",
      "/var/folders/1r/2wpzk2cd1ln3_nc94hvh0cqm0000gn/T/ipykernel_37478/154030911.py:20: DtypeWarning: Columns (22,23,24,26,27,28,29,30,31,32,33,38,43,44) have mixed types. Specify dtype option on import or set low_memory=False.\n",
      "  dataframes_list.append(pd.read_csv(file_path))\n",
      "/var/folders/1r/2wpzk2cd1ln3_nc94hvh0cqm0000gn/T/ipykernel_37478/154030911.py:20: DtypeWarning: Columns (22,23,24,26,27,28,29,30,31,32,33,38,44) have mixed types. Specify dtype option on import or set low_memory=False.\n",
      "  dataframes_list.append(pd.read_csv(file_path))\n",
      "/var/folders/1r/2wpzk2cd1ln3_nc94hvh0cqm0000gn/T/ipykernel_37478/154030911.py:20: DtypeWarning: Columns (22,23,24,26,27,28,29,30,31,32,33,38,43,44) have mixed types. Specify dtype option on import or set low_memory=False.\n",
      "  dataframes_list.append(pd.read_csv(file_path))\n",
      "/var/folders/1r/2wpzk2cd1ln3_nc94hvh0cqm0000gn/T/ipykernel_37478/154030911.py:20: DtypeWarning: Columns (22,23,24,26,27,28,29,30,31,32,33,38,44) have mixed types. Specify dtype option on import or set low_memory=False.\n",
      "  dataframes_list.append(pd.read_csv(file_path))\n"
     ]
    }
   ],
   "source": [
    "# Path to the directory where all CSV files are stored\n",
    "directory = \"/Users/thomaslee/Desktop/G1-2/Computational/HMDA_Story\"\n",
    "\n",
    "# Get a list of all CSV files in the directory\n",
    "csv_files = [file for file in os.listdir(directory) if file.endswith('.csv')]\n",
    "\n",
    "# Check if the list is empty\n",
    "if not csv_files:\n",
    "    raise ValueError(f\"No CSV files found in directory {directory}\")\n",
    "\n",
    "# Initialize an empty list to store DataFrames\n",
    "dataframes_list = []\n",
    "\n",
    "# Loop over the list of csv files\n",
    "for file in csv_files:\n",
    "    # Construct full file path\n",
    "    file_path = os.path.join(directory, file)\n",
    "    # Read the csv file and append it to the list of DataFrames\n",
    "    try:\n",
    "        dataframes_list.append(pd.read_csv(file_path))\n",
    "    except Exception as e:\n",
    "        print(f\"Failed to read {file_path} due to {e}\")\n",
    "\n",
    "# Check if any dataframes were added to the list\n",
    "if not dataframes_list:\n",
    "    raise ValueError(\"No dataframes were created. Check the CSV files and their readability.\")\n",
    "\n",
    "# Combine all DataFrames into one\n",
    "combined_df = pd.concat(dataframes_list, ignore_index=True)\n",
    "\n",
    "# Draw a 1/5 random sample from the combined DataFrame\n",
    "sample_df = combined_df.sample(frac=0.2, random_state=1)"
   ]
  },
  {
   "cell_type": "code",
   "execution_count": 3,
   "metadata": {},
   "outputs": [],
   "source": [
    "# Rename sample_df as df\n",
    "df = sample_df"
   ]
  },
  {
   "cell_type": "code",
   "execution_count": 4,
   "metadata": {},
   "outputs": [
    {
     "name": "stdout",
     "output_type": "stream",
     "text": [
      "3172888\n"
     ]
    }
   ],
   "source": [
    "# How many rows in df\n",
    "print(len(df))"
   ]
  },
  {
   "cell_type": "code",
   "execution_count": 5,
   "metadata": {},
   "outputs": [
    {
     "name": "stdout",
     "output_type": "stream",
     "text": [
      "          activity_year                   lei  derived_msa-md state_code  \\\n",
      "14916144           2022  549300VORTI31GZTJL53           41700         TX   \n",
      "5593344            2022  549300GSCUJKJINRJ980           23060         IN   \n",
      "799623             2022  549300DD5QQUHO6PCH70           22180         NC   \n",
      "7590619            2022  549300DD5QQUHO6PCH70           41540         MD   \n",
      "2101087            2022  549300AG64NHILB7ZP05           27260         FL   \n",
      "\n",
      "          county_code  census_tract conforming_loan_limit  \\\n",
      "14916144      48259.0  4.825997e+10                     C   \n",
      "5593344       18003.0  1.800300e+10                    NC   \n",
      "799623        37051.0  3.705100e+10                     C   \n",
      "7590619       24045.0  2.404501e+10                     C   \n",
      "2101087       12089.0  1.208905e+10                     C   \n",
      "\n",
      "         derived_loan_product_type             derived_dwelling_category  \\\n",
      "14916144   Conventional:First Lien  Single Family (1-4 Units):Site-Built   \n",
      "5593344    Conventional:First Lien  Single Family (1-4 Units):Site-Built   \n",
      "799623               VA:First Lien  Single Family (1-4 Units):Site-Built   \n",
      "7590619              VA:First Lien  Single Family (1-4 Units):Site-Built   \n",
      "2101087              VA:First Lien  Single Family (1-4 Units):Site-Built   \n",
      "\n",
      "                derived_ethnicity  ... denial_reason-2 denial_reason-3  \\\n",
      "14916144   Not Hispanic or Latino  ...             NaN             NaN   \n",
      "5593344    Not Hispanic or Latino  ...             NaN             NaN   \n",
      "799623     Not Hispanic or Latino  ...             NaN             NaN   \n",
      "7590619   Ethnicity Not Available  ...             NaN             NaN   \n",
      "2101087   Ethnicity Not Available  ...             NaN             NaN   \n",
      "\n",
      "          denial_reason-4  tract_population  \\\n",
      "14916144              NaN              4809   \n",
      "5593344               NaN              1481   \n",
      "799623                NaN              5085   \n",
      "7590619               NaN              7600   \n",
      "2101087               NaN              6162   \n",
      "\n",
      "          tract_minority_population_percent  \\\n",
      "14916144                              24.00   \n",
      "5593344                               18.50   \n",
      "799623                                76.68   \n",
      "7590619                               31.16   \n",
      "2101087                               16.28   \n",
      "\n",
      "          ffiec_msa_md_median_family_income  tract_to_msa_income_percentage  \\\n",
      "14916144                              84000                             159   \n",
      "5593344                               79100                             101   \n",
      "799623                                66400                              69   \n",
      "7590619                               89000                             134   \n",
      "2101087                               86100                             166   \n",
      "\n",
      "          tract_owner_occupied_units  tract_one_to_four_family_homes  \\\n",
      "14916144                        1504                            2049   \n",
      "5593344                          340                             944   \n",
      "799623                           678                            1728   \n",
      "7590619                         1339                            2194   \n",
      "2101087                         1768                            2397   \n",
      "\n",
      "          tract_median_age_of_housing_units  \n",
      "14916144                                 24  \n",
      "5593344                                   0  \n",
      "799623                                   35  \n",
      "7590619                                  44  \n",
      "2101087                                  16  \n",
      "\n",
      "[5 rows x 99 columns]\n"
     ]
    }
   ],
   "source": [
    "# Display the first few rows of the DataFrame\n",
    "print(df.head())"
   ]
  },
  {
   "cell_type": "code",
   "execution_count": 6,
   "metadata": {},
   "outputs": [],
   "source": [
    "# Keep loan_purpose as 1 only\n",
    "df = df[df['loan_purpose'] == 1]"
   ]
  },
  {
   "cell_type": "code",
   "execution_count": 7,
   "metadata": {},
   "outputs": [],
   "source": [
    "# Keep rows where action_taken is 1, 2 or 3\n",
    "df = df[df['action_taken'].isin([1, 2, 3])]\n",
    "\n",
    "# Turn 1 and 2 into 1, and 3 into 0\n",
    "df['action_taken'] = df['action_taken'].replace(2, 1)\n",
    "df['action_taken'] = df['action_taken'].replace(3, 0)"
   ]
  },
  {
   "cell_type": "code",
   "execution_count": 8,
   "metadata": {},
   "outputs": [],
   "source": [
    "# Drop ageapplicant that is missing or 8888\n",
    "df = df[df['applicant_age'] != '8888']\n",
    "df = df.dropna(subset=['applicant_age'])"
   ]
  },
  {
   "cell_type": "code",
   "execution_count": 9,
   "metadata": {},
   "outputs": [],
   "source": [
    "def age_range_to_ordinal(age_range):\n",
    "    mapping = {\n",
    "        '<25': 0,\n",
    "        '25-34': 1,\n",
    "        '35-44': 2,\n",
    "        '45-54': 3,\n",
    "        '55-64': 4,\n",
    "        '65-74': 5,\n",
    "        '>74': 6\n",
    "    }\n",
    "    return mapping.get(age_range, None)  # Returns None if age_range is not in the mapping"
   ]
  },
  {
   "cell_type": "code",
   "execution_count": 10,
   "metadata": {},
   "outputs": [],
   "source": [
    "df['applicant_age'] = df['applicant_age'].apply(age_range_to_ordinal)"
   ]
  },
  {
   "cell_type": "code",
   "execution_count": 11,
   "metadata": {},
   "outputs": [],
   "source": [
    "# Keep only rows where applicant_sex is 1 or 2\n",
    "df = df[df['applicant_sex'].isin([1, 2])]"
   ]
  },
  {
   "cell_type": "code",
   "execution_count": 12,
   "metadata": {},
   "outputs": [],
   "source": [
    "# Keep only rows where co-applicant_sex is 1 or 2\n",
    "df = df[df['co-applicant_sex'].isin([1, 2])]"
   ]
  },
  {
   "cell_type": "code",
   "execution_count": 13,
   "metadata": {},
   "outputs": [],
   "source": [
    "# Add a new column named gay\n",
    "# If applicant_sex and co-applicant_sex are both 1\n",
    "# Otherwise mark as 0\n",
    "\n",
    "df['gay'] = (df['applicant_sex'] == 1) & (df['co-applicant_sex'] == 1)\n",
    "df['gay'] = df['gay'].astype(int)"
   ]
  },
  {
   "cell_type": "code",
   "execution_count": 14,
   "metadata": {},
   "outputs": [],
   "source": [
    "# Add a new column named lesbian\n",
    "# If applicant_sex and co-applicant_sex are both 2\n",
    "# Otherwise mark as 0\n",
    "\n",
    "df['les'] = (df['applicant_sex'] == 2) & (df['co-applicant_sex'] == 2)\n",
    "df['les'] = df['les'].astype(int)"
   ]
  },
  {
   "cell_type": "code",
   "execution_count": 15,
   "metadata": {},
   "outputs": [],
   "source": [
    "# Add a new column named women\n",
    "\n",
    "df['women'] = (df['applicant_sex'] == 2) & (df['co-applicant_sex'] == 1)\n",
    "df['women'] = df['women'].astype(int)"
   ]
  },
  {
   "cell_type": "code",
   "execution_count": 16,
   "metadata": {},
   "outputs": [],
   "source": [
    "df = df[df['applicant_race-1'] != df['co-applicant_race-1']]"
   ]
  },
  {
   "cell_type": "code",
   "execution_count": 17,
   "metadata": {},
   "outputs": [],
   "source": [
    "# Find out Black\n",
    "\n",
    "df['black'] = (df['applicant_race-1'] == 3) & (df['co-applicant_race-1'] == 3)\n",
    "df['black'] = df['black'].astype(int)"
   ]
  },
  {
   "cell_type": "code",
   "execution_count": 18,
   "metadata": {},
   "outputs": [],
   "source": [
    "# Find out Hispanic\n",
    "\n",
    "df['hispanic'] = (df['applicant_ethnicity-1'] == 1) & (df['co-applicant_ethnicity-1'] == 1)\n",
    "df['hispanic'] = df['hispanic'].astype(int)"
   ]
  },
  {
   "cell_type": "code",
   "execution_count": 19,
   "metadata": {},
   "outputs": [],
   "source": [
    "# Find out Asian\n",
    "\n",
    "df['asian'] = (df['applicant_race-1'] == 2) & (df['co-applicant_race-1'] == 2)\n",
    "df['asian'] = df['asian'].astype(int)"
   ]
  },
  {
   "cell_type": "code",
   "execution_count": 20,
   "metadata": {},
   "outputs": [],
   "source": [
    "# Filter out na values in debt_to_income_ratio\n",
    "df = df.dropna(subset=['debt_to_income_ratio'])\n",
    "\n",
    "# Filter out debt_to_income_ratio that is Exempt and drop it\n",
    "df = df[df['debt_to_income_ratio'] != 'Exempt']"
   ]
  },
  {
   "cell_type": "code",
   "execution_count": 21,
   "metadata": {},
   "outputs": [
    {
     "name": "stdout",
     "output_type": "stream",
     "text": [
      "0\n"
     ]
    }
   ],
   "source": [
    "# Check if there are NA values in debt_to_income_ratio\n",
    "print(df['debt_to_income_ratio'].isna().sum())"
   ]
  },
  {
   "cell_type": "code",
   "execution_count": 22,
   "metadata": {},
   "outputs": [],
   "source": [
    "# Mapping from ratio to ordinal\n",
    "ordinal_mapping = {\n",
    "    '<20%': 0,\n",
    "    '20%-<30%': 1,\n",
    "    '30%-<36%': 2,\n",
    "    '36':3,\n",
    "    '37':4,\n",
    "    '38':5,\n",
    "    '39':6,\n",
    "    '40':7,\n",
    "    '41':8,\n",
    "    '42':9,\n",
    "    '43':10,\n",
    "    '44':11,\n",
    "    '45':12,\n",
    "    '46':13,\n",
    "    '47':14,\n",
    "    '48':15,\n",
    "    '49':16,\n",
    "    '50%-60%':17,\n",
    "    '>60%':18,\n",
    "}\n",
    "\n",
    "# Convert ratios to ordinals\n",
    "def ratio_to_ordinal(ratio):\n",
    "    # If the ratio is a specific percentage and not in mapping, return its corresponding ordinal\n",
    "    return ordinal_mapping.get(ratio, None)"
   ]
  },
  {
   "cell_type": "code",
   "execution_count": 23,
   "metadata": {},
   "outputs": [],
   "source": [
    "df['debt_to_income_ratio_new'] = df['debt_to_income_ratio'].apply(ratio_to_ordinal)"
   ]
  },
  {
   "cell_type": "code",
   "execution_count": 44,
   "metadata": {},
   "outputs": [
    {
     "name": "stdout",
     "output_type": "stream",
     "text": [
      "float64\n",
      "0\n"
     ]
    }
   ],
   "source": [
    "# Check the income column data type\n",
    "print(df['income'].dtype)\n",
    "\n",
    "# Drop rows where income is NA\n",
    "df = df.dropna(subset=['income'])\n",
    "\n",
    "# Drop all negative values in income\n",
    "df = df[df['income'] > 0]\n",
    "\n",
    "# Check if there are NA values in income\n",
    "print(df['income'].isna().sum())\n",
    "\n",
    "# Convert income to log income\n",
    "df['log_income'] = np.log(df['income'])"
   ]
  },
  {
   "cell_type": "code",
   "execution_count": 45,
   "metadata": {},
   "outputs": [
    {
     "name": "stdout",
     "output_type": "stream",
     "text": [
      "0\n"
     ]
    }
   ],
   "source": [
    "# Check number of NA values in log_income\n",
    "print(df['log_income'].isna().sum())"
   ]
  },
  {
   "cell_type": "code",
   "execution_count": 25,
   "metadata": {},
   "outputs": [
    {
     "name": "stdout",
     "output_type": "stream",
     "text": [
      "object\n"
     ]
    }
   ],
   "source": [
    "print(df['property_value'].dtype)\n",
    "\n",
    "# Drop rows where income is NA\n",
    "df = df.dropna(subset=['property_value'])\n",
    "\n",
    "# Drop rows where income is Exempt\n",
    "df = df[df['property_value'] != 'Exempt']\n",
    "\n",
    "# Convert property_value to float\n",
    "df['property_value'] = df['property_value'].astype(float)"
   ]
  },
  {
   "cell_type": "code",
   "execution_count": 49,
   "metadata": {},
   "outputs": [],
   "source": [
    "# Keep only rows where property_value is positive\n",
    "df = df[df['property_value'] > 0]\n",
    "\n",
    "# Convert property_value to log property_value\n",
    "df['log_property_value'] = np.log(df['property_value'])"
   ]
  },
  {
   "cell_type": "code",
   "execution_count": 26,
   "metadata": {},
   "outputs": [],
   "source": [
    "# Convert loan_to_value_ratio to float\n",
    "df['loan_to_value_ratio'] = df['loan_to_value_ratio'].str.replace('%', '').astype(float)\n",
    "\n",
    "# Drop rows where loan_to_value_ratio is NA\n",
    "df = df.dropna(subset=['loan_to_value_ratio'])"
   ]
  },
  {
   "cell_type": "code",
   "execution_count": 27,
   "metadata": {},
   "outputs": [],
   "source": [
    "# Replace 'NA', 'na', 'N/A', 'Exempt', etc., with numpy.nan\n",
    "df['loan_to_value_ratio'] = df['loan_to_value_ratio'].replace(['NA', 'na', 'N/A', 'Exempt', '', ' '], np.nan)\n",
    "\n",
    "# Drop rows with missing values in 'loan_to_value_ratio'\n",
    "df = df.dropna(subset=['loan_to_value_ratio'])"
   ]
  },
  {
   "cell_type": "code",
   "execution_count": 28,
   "metadata": {},
   "outputs": [
    {
     "name": "stdout",
     "output_type": "stream",
     "text": [
      "23222\n"
     ]
    }
   ],
   "source": [
    "# How many rows in df\n",
    "print(len(df))"
   ]
  },
  {
   "cell_type": "code",
   "execution_count": 50,
   "metadata": {},
   "outputs": [],
   "source": [
    "# Define your independent variables X (add your control variables as needed)\n",
    "X = df[['gay','les','women','debt_to_income_ratio_new','log_income','log_property_value','loan_to_value_ratio','applicant_age']]\n",
    "\n",
    "# Add a constant to the independent variables\n",
    "X = sm.add_constant(X)\n",
    "\n",
    "# Define your dependent variable y\n",
    "y = df['action_taken']"
   ]
  },
  {
   "cell_type": "code",
   "execution_count": 51,
   "metadata": {},
   "outputs": [
    {
     "name": "stdout",
     "output_type": "stream",
     "text": [
      "Optimization terminated successfully.\n",
      "         Current function value: 0.269941\n",
      "         Iterations 7\n",
      "                           Logit Regression Results                           \n",
      "==============================================================================\n",
      "Dep. Variable:           action_taken   No. Observations:                23136\n",
      "Model:                          Logit   Df Residuals:                    23127\n",
      "Method:                           MLE   Df Model:                            8\n",
      "Date:                Tue, 02 Apr 2024   Pseudo R-squ.:                 0.07356\n",
      "Time:                        19:28:03   Log-Likelihood:                -6245.3\n",
      "converged:                       True   LL-Null:                       -6741.2\n",
      "Covariance Type:            nonrobust   LLR p-value:                9.213e-209\n",
      "============================================================================================\n",
      "                               coef    std err          z      P>|z|      [0.025      0.975]\n",
      "--------------------------------------------------------------------------------------------\n",
      "const                       -4.4675      0.620     -7.206      0.000      -5.683      -3.252\n",
      "gay                         -0.1876      0.103     -1.816      0.069      -0.390       0.015\n",
      "les                         -0.2043      0.099     -2.057      0.040      -0.399      -0.010\n",
      "women                       -0.0003      0.054     -0.006      0.995      -0.107       0.106\n",
      "debt_to_income_ratio_new    -0.0982      0.005    -21.776      0.000      -0.107      -0.089\n",
      "log_income                   0.1790      0.056      3.188      0.001       0.069       0.289\n",
      "log_property_value           0.5392      0.053     10.259      0.000       0.436       0.642\n",
      "loan_to_value_ratio          0.0013      0.002      0.682      0.495      -0.002       0.005\n",
      "applicant_age               -0.0804      0.019     -4.238      0.000      -0.118      -0.043\n",
      "============================================================================================\n"
     ]
    }
   ],
   "source": [
    "# Fit the logistic regression model\n",
    "model = sm.Logit(y, X)\n",
    "result = model.fit()\n",
    "\n",
    "# Print the summary of the regression\n",
    "print(result.summary())"
   ]
  }
 ],
 "metadata": {
  "kernelspec": {
   "display_name": "Python 3",
   "language": "python",
   "name": "python3"
  },
  "language_info": {
   "codemirror_mode": {
    "name": "ipython",
    "version": 3
   },
   "file_extension": ".py",
   "mimetype": "text/x-python",
   "name": "python",
   "nbconvert_exporter": "python",
   "pygments_lexer": "ipython3",
   "version": "3.11.6"
  }
 },
 "nbformat": 4,
 "nbformat_minor": 2
}
